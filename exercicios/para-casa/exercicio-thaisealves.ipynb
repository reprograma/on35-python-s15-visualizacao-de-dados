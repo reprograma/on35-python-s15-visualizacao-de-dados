{
 "cells": [
  {
   "cell_type": "markdown",
   "metadata": {},
   "source": [
    "### Dashboard 1\n",
    "\n",
    "![img](imagens/dash1.png)\n",
    "\n",
    "(https://public.tableau.com/shared/4D9CGBPQ8?:display_count=n&:origin=viz_share_link)"
   ]
  },
  {
   "cell_type": "markdown",
   "metadata": {},
   "source": [
    "### Dashboard 2\n",
    "\n",
    "![img](imagens/dash2.png)\n",
    "\n",
    "(https://public.tableau.com/views/Dashboardparte2-Thase/Dash2-RJ?:language=pt-BR&:sid=&:redirect=auth&:display_count=n&:origin=viz_share_link)"
   ]
  },
  {
   "cell_type": "markdown",
   "metadata": {},
   "source": [
    "### Dashboard 3\n",
    "\n",
    "![img](imagens/dash3.png)\n",
    "\n",
    "(https://public.tableau.com/views/Dashboardparte3-Thase/Dash3-RJ?:language=pt-BR&:sid=&:redirect=auth&:display_count=n&:origin=viz_share_link)"
   ]
  }
 ],
 "metadata": {
  "language_info": {
   "name": "python"
  }
 },
 "nbformat": 4,
 "nbformat_minor": 2
}
